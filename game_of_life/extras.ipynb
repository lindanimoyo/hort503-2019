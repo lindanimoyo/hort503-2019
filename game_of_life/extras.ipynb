{
 "cells": [
  {
   "cell_type": "markdown",
   "metadata": {},
   "source": [
    "# Example Code"
   ]
  },
  {
   "cell_type": "code",
   "execution_count": 11,
   "metadata": {},
   "outputs": [],
   "source": [
    "import numpy as np\n",
    "import time\n",
    "from IPython.display import clear_output, display_html"
   ]
  },
  {
   "cell_type": "markdown",
   "metadata": {},
   "source": [
    "## Game of Life\n",
    "\n",
    "Let's borrow and modify some code from [Peter Norvig](https://nbviewer.jupyter.org/url/norvig.com/ipython/Life.ipynb) to make it easier to display our game of life in the notebook."
   ]
  },
  {
   "cell_type": "code",
   "execution_count": 12,
   "metadata": {},
   "outputs": [],
   "source": [
    "def html_grid_picture(grid):\n",
    "    \n",
    "    cell_symbols = {1: '♥', 0: '♡'}\n",
    "    padding = ' '\n",
    "    \n",
    "    # Use the dictionary as a key to fill the numpy array.\n",
    "    symbol_grid = np.vectorize(cell_symbols.get)(grid)\n",
    "    \n",
    "    rows = [' '.join(r) for r in symbol_grid]\n",
    "    grid_image = '\\n'.join(rows)\n",
    "    \n",
    "    return '<pre>' + grid_image + '</pre>'"
   ]
  },
  {
   "cell_type": "code",
   "execution_count": 13,
   "metadata": {},
   "outputs": [],
   "source": [
    "rgrid = np.random.randint(0, 2, (10, 10))\n",
    "# rgrid"
   ]
  },
  {
   "cell_type": "code",
   "execution_count": 14,
   "metadata": {},
   "outputs": [],
   "source": [
    "# html_grid_picture(rgrid)"
   ]
  },
  {
   "cell_type": "code",
   "execution_count": 15,
   "metadata": {},
   "outputs": [],
   "source": [
    "def draw_html(grid):\n",
    "    display_html(html_grid_picture(grid), raw=True)"
   ]
  },
  {
   "cell_type": "code",
   "execution_count": 16,
   "metadata": {},
   "outputs": [],
   "source": [
    "# draw_html(rgrid)"
   ]
  },
  {
   "cell_type": "code",
   "execution_count": 17,
   "metadata": {},
   "outputs": [],
   "source": [
    "def random_cells(generations=25, pause=0.1):\n",
    "    # Demonstrate the re-drawing.\n",
    "    for g in range(generations + 1):\n",
    "        clear_output()\n",
    "        \n",
    "        # Create a random numpy array of 0 and 1.\n",
    "        rgrid = np.random.randint(0, 2, (10, 10))\n",
    "        \n",
    "        draw_html(rgrid)\n",
    "        \n",
    "        time.sleep(pause)"
   ]
  },
  {
   "cell_type": "code",
   "execution_count": 18,
   "metadata": {},
   "outputs": [
    {
     "data": {
      "text/html": [
       "<pre>♥ ♥ ♥ ♡ ♡ ♥ ♥ ♥ ♥ ♡\n",
       "♥ ♥ ♡ ♡ ♡ ♥ ♡ ♡ ♡ ♡\n",
       "♥ ♡ ♥ ♡ ♥ ♥ ♡ ♥ ♥ ♥\n",
       "♡ ♡ ♥ ♡ ♡ ♡ ♡ ♥ ♥ ♥\n",
       "♥ ♥ ♥ ♥ ♡ ♡ ♡ ♥ ♡ ♡\n",
       "♡ ♥ ♥ ♥ ♥ ♥ ♡ ♥ ♥ ♥\n",
       "♥ ♡ ♥ ♥ ♡ ♥ ♥ ♥ ♡ ♡\n",
       "♥ ♥ ♡ ♡ ♡ ♥ ♡ ♡ ♡ ♥\n",
       "♡ ♡ ♥ ♡ ♥ ♡ ♡ ♡ ♡ ♡\n",
       "♡ ♡ ♥ ♡ ♥ ♡ ♥ ♥ ♥ ♥</pre>"
      ]
     },
     "metadata": {},
     "output_type": "display_data"
    }
   ],
   "source": [
    "random_cells()"
   ]
  },
  {
   "cell_type": "markdown",
   "metadata": {},
   "source": [
    "# Matplotlib"
   ]
  },
  {
   "cell_type": "code",
   "execution_count": 9,
   "metadata": {},
   "outputs": [],
   "source": [
    "import matplotlib.pyplot as plt\n",
    "%matplotlib inline"
   ]
  },
  {
   "cell_type": "code",
   "execution_count": 10,
   "metadata": {},
   "outputs": [
    {
     "data": {
      "image/png": "[encoded data removed]",
      "text/plain": [
       "<Figure size 432x288 with 1 Axes>"
      ]
     },
     "metadata": {
      "needs_background": "light"
     },
     "output_type": "display_data"
    }
   ],
   "source": [
    "plt.imshow(rgrid);"
   ]
  },
  {
   "cell_type": "markdown",
   "metadata": {},
   "source": [
    "## Isiing Model Demo\n",
    "\n",
    "See `ising.py` for a demonstration of a .gif produced from successive calls to `plt.imshow()`."
   ]
  },
  {
   "cell_type": "code",
   "execution_count": null,
   "metadata": {},
   "outputs": [],
   "source": []
  }
 ],
 "metadata": {
  "kernelspec": {
   "display_name": "Python 3",
   "language": "python",
   "name": "python3"
  },
  "language_info": {
   "codemirror_mode": {
    "name": "ipython",
    "version": 3
   },
   "file_extension": ".py",
   "mimetype": "text/x-python",
   "name": "python",
   "nbconvert_exporter": "python",
   "pygments_lexer": "ipython3",
   "version": "3.7.1"
  }
 },
 "nbformat": 4,
 "nbformat_minor": 2
}
